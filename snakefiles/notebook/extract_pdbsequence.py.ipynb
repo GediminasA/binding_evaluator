{
 "cells": [
  {
   "cell_type": "code",
   "execution_count": null,
   "id": "550d29e5",
   "metadata": {
    "tags": [
     "snakemake-job-properties"
    ]
   },
   "outputs": [],
   "source": [
    "\n",
    "######## snakemake preamble start (automatically inserted, do not edit) ########\n",
    "import sys; sys.path.extend(['/scratch/lustre/home/mif04953/miniconda3/envs/binding_evaluator/lib/python3.10/site-packages', '/scratch/lustre/home/mif04953/binding_evaluator/snakefiles/notebook']); import pickle; snakemake = pickle.loads(b'\\x80\\x04\\x95\\xf5\\x06\\x00\\x00\\x00\\x00\\x00\\x00\\x8c\\x10snakemake.script\\x94\\x8c\\tSnakemake\\x94\\x93\\x94)\\x81\\x94}\\x94(\\x8c\\x05input\\x94\\x8c\\x0csnakemake.io\\x94\\x8c\\nInputFiles\\x94\\x93\\x94)\\x81\\x94\\x8c&prodigy_run/pdb_proc/pristine/4CPA.pdb\\x94a}\\x94(\\x8c\\x06_names\\x94}\\x94\\x8c\\x12_allowed_overrides\\x94]\\x94(\\x8c\\x05index\\x94\\x8c\\x04sort\\x94eh\\x10\\x8c\\tfunctools\\x94\\x8c\\x07partial\\x94\\x93\\x94h\\x06\\x8c\\x19Namedlist._used_attribute\\x94\\x93\\x94\\x85\\x94R\\x94(h\\x16)}\\x94\\x8c\\x05_name\\x94h\\x10sNt\\x94bh\\x11h\\x14h\\x16\\x85\\x94R\\x94(h\\x16)}\\x94h\\x1ah\\x11sNt\\x94bub\\x8c\\x06output\\x94h\\x06\\x8c\\x0bOutputFiles\\x94\\x93\\x94)\\x81\\x94\\x8c&prodigy_run/initial_cleanup/4CPA.fasta\\x94a}\\x94(h\\x0c}\\x94h\\x0e]\\x94(h\\x10h\\x11eh\\x10h\\x14h\\x16\\x85\\x94R\\x94(h\\x16)}\\x94h\\x1ah\\x10sNt\\x94bh\\x11h\\x14h\\x16\\x85\\x94R\\x94(h\\x16)}\\x94h\\x1ah\\x11sNt\\x94bub\\x8c\\x06params\\x94h\\x06\\x8c\\x06Params\\x94\\x93\\x94)\\x81\\x94}\\x94(h\\x0c}\\x94h\\x0e]\\x94(h\\x10h\\x11eh\\x10h\\x14h\\x16\\x85\\x94R\\x94(h\\x16)}\\x94h\\x1ah\\x10sNt\\x94bh\\x11h\\x14h\\x16\\x85\\x94R\\x94(h\\x16)}\\x94h\\x1ah\\x11sNt\\x94bub\\x8c\\twildcards\\x94h\\x06\\x8c\\tWildcards\\x94\\x93\\x94)\\x81\\x94\\x8c\\x044CPA\\x94a}\\x94(h\\x0c}\\x94\\x8c\\x04stem\\x94K\\x00N\\x86\\x94sh\\x0e]\\x94(h\\x10h\\x11eh\\x10h\\x14h\\x16\\x85\\x94R\\x94(h\\x16)}\\x94h\\x1ah\\x10sNt\\x94bh\\x11h\\x14h\\x16\\x85\\x94R\\x94(h\\x16)}\\x94h\\x1ah\\x11sNt\\x94b\\x8c\\x04stem\\x94hCub\\x8c\\x07threads\\x94K\\x01\\x8c\\tresources\\x94h\\x06\\x8c\\tResources\\x94\\x93\\x94)\\x81\\x94(K\\x01K\\x01\\x8c\\x19/tmp/slurm-mif04953-17990\\x94e}\\x94(h\\x0c}\\x94(\\x8c\\x06_cores\\x94K\\x00N\\x86\\x94\\x8c\\x06_nodes\\x94K\\x01N\\x86\\x94\\x8c\\x06tmpdir\\x94K\\x02N\\x86\\x94uh\\x0e]\\x94(h\\x10h\\x11eh\\x10h\\x14h\\x16\\x85\\x94R\\x94(h\\x16)}\\x94h\\x1ah\\x10sNt\\x94bh\\x11h\\x14h\\x16\\x85\\x94R\\x94(h\\x16)}\\x94h\\x1ah\\x11sNt\\x94bhZK\\x01h\\\\K\\x01h^hWub\\x8c\\x03log\\x94h\\x06\\x8c\\x03Log\\x94\\x93\\x94)\\x81\\x94}\\x94(h\\x0c}\\x94h\\x0e]\\x94(h\\x10h\\x11eh\\x10h\\x14h\\x16\\x85\\x94R\\x94(h\\x16)}\\x94h\\x1ah\\x10sNt\\x94bh\\x11h\\x14h\\x16\\x85\\x94R\\x94(h\\x16)}\\x94h\\x1ah\\x11sNt\\x94bub\\x8c\\x06config\\x94}\\x94(\\x8c\\x11structures_folder\\x94\\x8c\\x11data/alreadyfixed\\x94\\x8c\\tpdb_stems\\x94X\\x90\\x01\\x00\\x001A2K 1ACB 1AK4 1AKJ 1ATN 1AVZ 1B6C 1BJ1 1BUH 1BVK 1BVN 1CBW 1DE4 1DQJ 1E4K 1E6E 1E6J 1E96 1EER 1EFN 1EMV 1EWY 1EZU 1FC2 1FFW 1FSK 1GCQ 1GLA 1GXD 1HE8 1I2M 1I4D 1J2J 1JPS 1JTG 1JWH 1K5D 1KAC 1KKL 1KTZ 1KXQ 1LFD 1M10 1MLC 1MQ8 1P2C 1PPE 1PVH 1QA9 1R0R 1S1Q 1US7 1VFB 1WEJ 1XQS 1XU1 1Z0K 1ZHI 2A9K 2ABZ 2AJF 2AQ3 2C0L 2FJU 2GOX 2HQS 2HRK 2I25  2NYZ 2OOB 2PCB 2PCC 2TGP 2VIR 2VIS 2WPT 3BZD 3CPH 3SGB 4CPA\\x94\\x8c\\x17preprocessed_structures\\x94\\x8c\\x14data/test_structures\\x94\\x8c\\x07workdir\\x94\\x8c\\x0bprodigy_run\\x94\\x8c\\nmain_chain\\x94\\x8c\\x01A\\x94\\x8c\\x07rosetta\\x94}\\x94(\\x8c\\x06folder\\x94\\x8c3/mnt/raid/ga/rosetta_bin_linux_2021.16.61629_bundle\\x94\\x8c\\x0fbinaries_suffix\\x94\\x8c\\x17.static.linuxgccrelease\\x94\\x8c\\x12local_docking_runs\\x94M\\x88\\x13uu\\x8c\\x04rule\\x94\\x8c\\x14extract_seqs_initial\\x94\\x8c\\x0fbench_iteration\\x94N\\x8c\\tscriptdir\\x94\\x8cC/scratch/lustre/home/mif04953/binding_evaluator/snakefiles/notebook\\x94ub.'); from snakemake.logging import logger; logger.printshellcmds = False; import os; os.chdir(r'/scratch/lustre/home/mif04953/binding_evaluator');\n",
    "######## snakemake preamble end #########\n"
   ]
  },
  {
   "cell_type": "code",
   "execution_count": null,
   "id": "0b90f6cd",
   "metadata": {},
   "outputs": [],
   "source": [
    "# start coding here"
   ]
  }
 ],
 "metadata": {
  "language_info": {
   "name": "python"
  }
 },
 "nbformat": 4,
 "nbformat_minor": 5
}