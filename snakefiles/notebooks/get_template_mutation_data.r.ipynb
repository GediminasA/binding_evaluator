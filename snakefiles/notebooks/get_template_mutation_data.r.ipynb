{
 "cells": [
  {
   "cell_type": "code",
   "execution_count": null,
   "id": "260c624b",
   "metadata": {},
   "outputs": [],
   "source": [
    "options(warn=-1, message = FALSE)\n",
    "library(data.table)\n",
    "library(dplyr)\n",
    "library(tidyr)\n",
    "library(stringr)"
   ]
  },
  {
   "cell_type": "code",
   "execution_count": null,
   "id": "2b5373a7",
   "metadata": {},
   "outputs": [],
   "source": [
    "dfmap <- fread (snakemake@input$map_s_p)"
   ]
  },
  {
   "cell_type": "code",
   "execution_count": null,
   "id": "575ba8f7",
   "metadata": {},
   "outputs": [],
   "source": [
    "PDB_TEMPLATE <- as.character(unlist(dfmap$PDB))\n",
    "names(PDB_TEMPLATE) <- as.character(unlist(dfmap$TEMPLATE)) #map template to PDB map\n",
    "chain <- dfmap$CHAIN[[1]]"
   ]
  },
  {
   "cell_type": "code",
   "execution_count": null,
   "id": "01c51ffc",
   "metadata": {},
   "outputs": [],
   "source": [
    "df <- fread(snakemake@input$data)\n",
    "df$ID <- 1:nrow(df)"
   ]
  },
  {
   "cell_type": "code",
   "execution_count": null,
   "id": "3040da19",
   "metadata": {},
   "outputs": [],
   "source": [
    "df2 <- df %>%\n",
    "    mutate(Mutations = sub(pattern = \" \",replacement = \",\", x = Mutations,fixed = T)) %>%\n",
    "    mutate(Mutations = strsplit(str_trim(Mutations,side = \"both\"),split=\",|;\"))\n",
    "df2 <- df2 %>%\n",
    "    unnest(Mutations) %>%\n",
    "    rowwise() %>%\n",
    "    mutate(\n",
    "        POSITION_TEMPLATE =substr(x = Mutations,start = 2,stop = nchar(Mutations)-1),\n",
    "        WT =substr(x = Mutations,start = 1,stop = 1),\n",
    "        SUB =substr(x = Mutations,start = nchar(Mutations),stop = nchar(Mutations)),\n",
    "        ) %>%\n",
    "    mutate(POSITION_PDB = PDB_TEMPLATE[POSITION_TEMPLATE]) \n",
    "\n",
    "df3 <- df2 %>%\n",
    "    filter(!is.na(POSITION_PDB)) %>%\n",
    "    #where deletions are - sbstityue to alanine\n",
    "    mutate(SUB = ifelse(SUB=='-',\"A\",SUB)) %>%\n",
    "    mutate(MutationPDB = paste(WT,POSITION_PDB,SUB,sep=\"\")) %>%\n",
    "    mutate(MutationPDBwChain = paste(WT,chain,POSITION_PDB,SUB,sep=\"\"))\n",
    "\n",
    "df4 <- df3 %>%\n",
    "    group_by(ID) %>%\n",
    "    summarise(\n",
    "        Mutations=paste(Mutations, collapse=\",\"),\n",
    "        MutationsID = first(MutationsID),\n",
    "        MutationPDB=paste(MutationPDB, collapse=\",\"),\n",
    "        MutationPDBwChain=paste(MutationPDBwChain, collapse=\",\"),\n",
    "        Template = first(Template),\n",
    "        PDB = first(PDB)   \n",
    "    ) %>%\n",
    "    ungroup()\n",
    "\n",
    "dfhap <- df2 %>%\n",
    "    arrange(ID,as.numeric(POSITION_TEMPLATE),WT,SUB) %>%\n",
    "     group_by(ID) %>%\n",
    "     summarise(Haplotype = paste(Mutations,collapse=\",\"))\n",
    "\n",
    "df4 <- df4 %>%\n",
    "    left_join(dfhap, by=c(\"ID\")) %>%\n",
    "    mutate(CHAIN=chain) %>%\n",
    "    group_by(Mutations,MutationPDB,MutationPDBwChain,Template,PDB,CHAIN) %>%\n",
    "    summarise(\n",
    "        Haplotype=paste(Haplotype, collapse=\"|\"),\n",
    "        MutationsID=paste(MutationsID, collapse=\"|\"),\n",
    "    ) %>%\n",
    "    ungroup()\n",
    "fwrite(x = df4,file = snakemake@output[[1]])"
   ]
  },
  {
   "cell_type": "code",
   "execution_count": null,
   "id": "eeed6d8a",
   "metadata": {},
   "outputs": [],
   "source": [
    "# general info\n",
    "dfhap <- df2 %>%\n",
    "    arrange(ID,as.numeric(POSITION_TEMPLATE),WT,SUB) %>%\n",
    "     group_by(ID) %>%\n",
    "     summarise(Haplotype = paste(Mutations,collapse=\",\"))\n",
    "df_withhap <- df %>%\n",
    "    left_join(dfhap, by=\"ID\")\n",
    "fwrite(x = df_withhap, file = snakemake@output[[2]])\n",
    "df_withhap"
   ]
  }
 ],
 "metadata": {
  "kernelspec": {
   "display_name": "R",
   "language": "R",
   "name": "ir"
  },
  "language_info": {
   "codemirror_mode": "r",
   "file_extension": ".r",
   "mimetype": "text/x-r-source",
   "name": "R",
   "pygments_lexer": "r",
   "version": "4.2.0"
  }
 },
 "nbformat": 4,
 "nbformat_minor": 5
}
