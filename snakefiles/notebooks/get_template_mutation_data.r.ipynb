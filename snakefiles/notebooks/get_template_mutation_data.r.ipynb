{
 "cells": [
  {
   "cell_type": "code",
   "execution_count": null,
   "id": "260c624b",
   "metadata": {},
   "outputs": [],
   "source": [
    "library(data.table)\n",
    "library(dplyr)\n",
    "library(tidyr)\n",
    "library(stringr)\n",
    "options(warn=-1)"
   ]
  },
  {
   "cell_type": "code",
   "execution_count": null,
   "id": "2b5373a7",
   "metadata": {},
   "outputs": [],
   "source": [
    "dfmap <- fread (snakemake@input$map_s_p)"
   ]
  },
  {
   "cell_type": "code",
   "execution_count": null,
   "id": "575ba8f7",
   "metadata": {},
   "outputs": [],
   "source": [
    "PDB_TEMPLATE <- as.character(unlist(dfmap$PDB))\n",
    "names(PDB_TEMPLATE) <- as.character(unlist(dfmap$TEMPLATE))\n",
    "chain <- dfmap$CHAIN[[1]]"
   ]
  },
  {
   "cell_type": "code",
   "execution_count": null,
   "id": "01c51ffc",
   "metadata": {},
   "outputs": [],
   "source": [
    "df <- fread(snakemake@input$data)\n",
    "df$ID <- 1:nrow(df)"
   ]
  },
  {
   "cell_type": "code",
   "execution_count": null,
   "id": "3040da19",
   "metadata": {},
   "outputs": [],
   "source": [
    "df2 <- df %>%\n",
    "    mutate(Mutation = strsplit(str_trim(Mutation,side = \"both\"),split=\",|;\"))\n",
    "df2 <- df2 %>%\n",
    "    unnest(Mutation) %>%\n",
    "    rowwise() %>%\n",
    "    mutate(\n",
    "        POSITION_TEMPLATE =substr(x = Mutation,start = 2,stop = nchar(Mutation)-1),\n",
    "        WT =substr(x = Mutation,start = 1,stop = 1),\n",
    "        SUB =substr(x = Mutation,start = nchar(Mutation),stop = nchar(Mutation)),\n",
    "        ) %>%\n",
    "    mutate(POSITION_PDB = PDB_TEMPLATE[POSITION_TEMPLATE]) \n",
    "df3 <- df2 %>%\n",
    "    filter(!is.na(POSITION_PDB)) %>%\n",
    "    #where deletions are - sbstityue to alanine\n",
    "    mutate(SUB = ifelse(SUB=='-',\"A\",SUB)) %>%\n",
    "    mutate(MutationPDB = paste(WT,POSITION_PDB,SUB,sep=\"\")) %>%\n",
    "    mutate(MutationPDBwChain = paste(WT,chain,POSITION_PDB,SUB,sep=\"\"))\n",
    "    \n",
    "df4 <- df3 %>%\n",
    "    group_by(ID) %>%\n",
    "    summarise(\n",
    "        Mutation=paste(Mutation, collapse=\",\"),\n",
    "        MutationPDB=paste(MutationPDB, collapse=\",\"),\n",
    "        MutationPDBwChain=paste(MutationPDBwChain, collapse=\",\"),\n",
    "        Template = first(Template),\n",
    "        PDB = first(PDB)\n",
    "        \n",
    "    ) %>%\n",
    "    ungroup()\n",
    "dfhap <- df2 %>%\n",
    "    arrange(ID,as.numeric(POSITION_TEMPLATE),WT,SUB) %>%\n",
    "     group_by(ID) %>%\n",
    "     summarise(Haplotype = paste(Mutation,collapse=\",\"))\n",
    "df4 <- df4 %>%\n",
    "    left_join(dfhap, by=c(\"ID\")) %>%\n",
    "    mutate(CHAIN=chain) %>%\n",
    "    group_by(Mutation,MutationPDB,MutationPDBwChain,Template,PDB,CHAIN) %>%\n",
    "    summarise(Haplotype=paste(Haplotype, collapse=\"|\")) %>%\n",
    "    ungroup()\n",
    "fwrite(x = df4,file = snakemake@output[[1]])"
   ]
  },
  {
   "cell_type": "code",
   "execution_count": null,
   "id": "eeed6d8a",
   "metadata": {},
   "outputs": [],
   "source": [
    "# general info\n",
    "dfhap <- df2 %>%\n",
    "    arrange(ID,as.numeric(POSITION_TEMPLATE),WT,SUB) %>%\n",
    "     group_by(ID) %>%\n",
    "     summarise(Haplotype = paste(Mutation,collapse=\",\"))\n",
    "df_withhap <- df %>%\n",
    "    left_join(dfhap, by=\"ID\")\n",
    "fwrite(x = df_withhap, file = snakemake@output[[2]])"
   ]
  }
 ],
 "metadata": {
  "kernelspec": {
   "display_name": "R",
   "language": "R",
   "name": "ir"
  },
  "language_info": {
   "codemirror_mode": "r",
   "file_extension": ".r",
   "mimetype": "text/x-r-source",
   "name": "R",
   "pygments_lexer": "r",
   "version": "4.2.0"
  }
 },
 "nbformat": 4,
 "nbformat_minor": 5
}
