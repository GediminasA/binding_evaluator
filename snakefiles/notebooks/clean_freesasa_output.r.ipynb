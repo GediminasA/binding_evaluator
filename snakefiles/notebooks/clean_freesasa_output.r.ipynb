{
 "cells": [
  {
   "cell_type": "code",
   "execution_count": 2,
   "id": "090470e6",
   "metadata": {},
   "outputs": [],
   "source": [
    "library(dplyr)\n",
    "library(data.table)"
   ]
  },
  {
   "cell_type": "code",
   "execution_count": 6,
   "id": "49de2f4a",
   "metadata": {},
   "outputs": [],
   "source": [
    "df <- fread(cmd=paste(\"grep -A 3 RESULTS\",snakemake@input$tsv),skip = 1,select=c(\"V1\",\"V3\")) %>%\n",
    "    mutate(V1=toupper(paste(\"FREESASA\",V1,sep=\"_\")))\n",
    "df <- data.table(t(df))\n",
    "colnames(df) <- unlist(df[1,],use.names = F)\n",
    "df[1,] <- NA \n",
    "df <- df %>%\n",
    "    filter(row_number() %in% c( 2))\n",
    "df$COMPLEXID <- snakemake@params$complexid\n",
    "df$FRAMEID <- snakemake@params$frameid\n",
    "df$PART <- snakemake@params$part\n",
    "fwrite(file = snakemake@output$tsv,sep = \"\\t\",x = df)\n"
   ]
  }
 ],
 "metadata": {
  "kernelspec": {
   "display_name": "R",
   "language": "R",
   "name": "ir"
  },
  "language_info": {
   "codemirror_mode": "r",
   "file_extension": ".r",
   "mimetype": "text/x-r-source",
   "name": "R",
   "pygments_lexer": "r",
   "version": "4.1.3"
  }
 },
 "nbformat": 4,
 "nbformat_minor": 5
}
