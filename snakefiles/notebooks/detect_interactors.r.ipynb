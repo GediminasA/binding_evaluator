{
 "cells": [
  {
   "cell_type": "code",
   "execution_count": 2,
   "id": "a970c68c",
   "metadata": {},
   "outputs": [],
   "source": [
    "library(data.table)\n",
    "library(dplyr)\n",
    "library(stringr)\n",
    "library(seqinr)"
   ]
  },
  {
   "cell_type": "code",
   "execution_count": 3,
   "id": "cb193073",
   "metadata": {},
   "outputs": [],
   "source": [
    "# read predifined data\n",
    "\n",
    "stem = toupper(snakemake@wildcards$stem)\n",
    "\n",
    "df = fread(snakemake@params$predefined) %>%\n",
    "    mutate(PDB=toupper(PDB)) %>%\n",
    "    filter(PDB==toupper(stem))\n",
    "\n",
    "if (rlang::is_empty(df$Partner1)) {\n",
    "    partner1d = NA\n",
    "} else {\n",
    "    partner1d = df$Partner1\n",
    "}\n",
    "if (rlang::is_empty(df$Partner2)) {\n",
    "    partner2d = NA\n",
    "} else {\n",
    "    partner2d = df$Partner2\n",
    "}\n",
    "\n"
   ]
  },
  {
   "cell_type": "code",
   "execution_count": 4,
   "id": "7ebeeb69",
   "metadata": {},
   "outputs": [],
   "source": [
    "#read antibody matches\n",
    "df = fread(cmd=sprintf(\"grep -v '#' %s \",snakemake@input$ig_data), header=F,sep=\" \",fill = T)\n",
    "igchains = list()\n",
    "if (nrow(df) > 0) {\n",
    "    igchains = lapply(X = df$V3, function(s){\n",
    "      s2=strsplit(x = s,split = \"|\",fixed = T)[[1]][[2]]\n",
    "    })\n",
    "    igchains=unlist(unique(list(unlist(igchains))))\n",
    "    \n",
    "    \n",
    "}\n",
    "igchains = unique(as.list(igchains))\n",
    "igchains"
   ]
  },
  {
   "cell_type": "code",
   "execution_count": 5,
   "id": "a510bdf0",
   "metadata": {},
   "outputs": [],
   "source": [
    "seqs = read.fasta(snakemake@input$fa,as.string = T,strip.desc = T,seqtype = 'AA')\n",
    "\n",
    "sdf = as.data.frame(t(as.data.table(seqs)))\n",
    "ids <- rownames(sdf)\n",
    "ids <- lapply(ids,function(s){\n",
    "    s2=strsplit(x = s,split = \"|\",fixed = T)[[1]][[2]]\n",
    "}\n",
    ")\n",
    "sdf$chain <- ids\n",
    "rownames(sdf) <- NULL \n",
    "sdf <- sdf%>%\n",
    "    select(chain,sequence=V1) %>%\n",
    "    rowwise %>%\n",
    "    mutate(length=nchar(sequence)) %>%\n",
    "    select(chain,length) %>%\n",
    "    arrange(length)"
   ]
  },
  {
   "cell_type": "code",
   "execution_count": 6,
   "id": "52b422cb",
   "metadata": {},
   "outputs": [],
   "source": [
    "shortest_chain = sdf$chain[[1]]\n",
    "number_of_chains = nrow(sdf)\n",
    "all_chains <- sdf$chain\n",
    "chains_having_Ig_motif <- igchains\n",
    "chains_nothaving_Ig_motif <- setdiff(all_chains,chains_having_Ig_motif)\n",
    "other_than_shortest_chans <- setdiff(all_chains,shortest_chain)"
   ]
  },
  {
   "cell_type": "code",
   "execution_count": 21,
   "id": "f390af62",
   "metadata": {},
   "outputs": [],
   "source": [
    "partner1 = NA\n",
    "partner2 = NA\n",
    "comment = NA\n",
    "if (number_of_chains == 1) {\n",
    "    comment = \"One chain. Impossoble to define interacting chains\"\n",
    "} else if (number_of_chains==2) {\n",
    "    partner1 = shortest_chain\n",
    "    partner2 = paste(other_than_shortest_chans,collapse = \",\")\n",
    "    if (length(chains_having_Ig_motif) == number_of_chains) {\n",
    "        comment = \"WARNING. All two chains has Ig related sequences\" \n",
    "    } else {\n",
    "        comment = \"Clear! Two chains\"\n",
    "    }\n",
    "} else if (number_of_chains==3 & length(chains_having_Ig_motif) > 0 ) {\n",
    "    if (length(chains_having_Ig_motif) == 3) {\n",
    "        comment = \"WARNING. All three chains has Ig related sequences\"\n",
    "    }\n",
    "    if (length(chains_having_Ig_motif) == 1) {\n",
    "        comment = \"WARNING. Only one out of three chains has Ig related sequences\"\n",
    "    }\n",
    "    if (length(chains_having_Ig_motif) == 2) {\n",
    "        partner1 = paste(chains_nothaving_Ig_motif,collapse = \",\")\n",
    "        partner2 = paste(chains_having_Ig_motif,collapse = \",\")\n",
    "    }\n",
    "} else if (number_of_chains==3 & length(chains_having_Ig_motif) == 0 ) {\n",
    "    comment = \"WARNING. Any of the three chans has an Ig related motif. Choosing based on short sequence\"\n",
    "    partner1 = shortest_chain\n",
    "    partner2 = paste(other_than_shortest_chans,collapse = \",\")\n",
    "} else if (number_of_chains > 3) {\n",
    "    comment = \"WARNING. More than three chains. Unable to infer interactions\" \n",
    "\n",
    "}\n",
    "\n",
    "#if data is available take from predefined\n",
    "\n",
    "if (!is.na(partner1d) & !is.na(partner2d)) {\n",
    "    comment = paste(\"Predifined data superseded this:\",partner1,partner2,comment,sep=\" \")\n",
    "    partner1 = paste(strsplit(partner1d, split=\"\")[[1]],collapse=\",\")\n",
    "    partner2 = paste(strsplit(partner2d, split=\"\")[[1]],collapse=\",\")\n",
    "    \n",
    "}\n",
    "\n",
    "outl = paste(c(partner1,partner2,comment), collapse=\"\\t\")\n",
    "writeLines(outl, snakemake@output[[1]])\n",
    "#system(sprintf(\"cat %s\",snakemake@output[[1]]), intern = T)\n",
    "print(outl)\n"
   ]
  }
 ],
 "metadata": {
  "kernelspec": {
   "display_name": "R",
   "language": "R",
   "name": "ir"
  },
  "language_info": {
   "codemirror_mode": "r",
   "file_extension": ".r",
   "mimetype": "text/x-r-source",
   "name": "R",
   "pygments_lexer": "r",
   "version": "4.2.2"
  }
 },
 "nbformat": 4,
 "nbformat_minor": 5
}
