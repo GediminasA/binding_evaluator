{
 "cells": [
  {
   "cell_type": "code",
   "execution_count": null,
   "id": "c498ec6b",
   "metadata": {},
   "outputs": [],
   "source": [
    "library(dplyr)\n",
    "library(data.table)"
   ]
  },
  {
   "cell_type": "code",
   "execution_count": null,
   "id": "ed654b16",
   "metadata": {},
   "outputs": [],
   "source": [
    "\n",
    "df <- lapply(X = snakemake@input, function(x){\n",
    "    dfl <- fread(x) %>%\n",
    "        mutate_at(vars(-(\"label\")),as.double)\n",
    "    return(dfl)\n",
    "})\n",
    "fwrite(x = bind_rows(df), file = snakemake@output[[1]])"
   ]
  }
 ],
 "metadata": {
  "kernelspec": {
   "display_name": "R",
   "language": "R",
   "name": "ir"
  },
  "language_info": {
   "codemirror_mode": "r",
   "file_extension": ".r",
   "mimetype": "text/x-r-source",
   "name": "R",
   "pygments_lexer": "r",
   "version": "4.2.0"
  }
 },
 "nbformat": 4,
 "nbformat_minor": 5
}
