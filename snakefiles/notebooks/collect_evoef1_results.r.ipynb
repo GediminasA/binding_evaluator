{
 "cells": [
  {
   "cell_type": "code",
   "execution_count": null,
   "id": "bda536d5",
   "metadata": {},
   "outputs": [],
   "source": [
    "shh <- suppressPackageStartupMessages # It's a library, so shhh!\n",
    "options(warn=-2)\n",
    "shh(library(data.table))\n",
    "shh(library(dplyr))"
   ]
  },
  {
   "cell_type": "code",
   "execution_count": null,
   "id": "25356390",
   "metadata": {},
   "outputs": [],
   "source": [
    "rezmut = bind_rows(lapply(X = snakemake@input$evoEF1_rez, fread))"
   ]
  },
  {
   "cell_type": "code",
   "execution_count": null,
   "id": "48fa94ab",
   "metadata": {},
   "outputs": [],
   "source": [
    "datmut = fread(snakemake@input$muation_data)"
   ]
  },
  {
   "cell_type": "code",
   "execution_count": null,
   "id": "50ff461b",
   "metadata": {
    "scrolled": true
   },
   "outputs": [],
   "source": [
    "rezmut <- rezmut %>%\n",
    "    left_join(datmut, by = c(\"MUTATIONS\"=\"MutationPDB\"))\n",
    "rezmut"
   ]
  },
  {
   "cell_type": "code",
   "execution_count": null,
   "id": "f2ddabf2",
   "metadata": {},
   "outputs": [],
   "source": [
    "fwrite(x = rezmut, file = snakemake@output$muation_data)"
   ]
  }
 ],
 "metadata": {
  "kernelspec": {
   "display_name": "R",
   "language": "R",
   "name": "ir"
  },
  "language_info": {
   "codemirror_mode": "r",
   "file_extension": ".r",
   "mimetype": "text/x-r-source",
   "name": "R",
   "pygments_lexer": "r",
   "version": "4.2.0"
  }
 },
 "nbformat": 4,
 "nbformat_minor": 5
}
