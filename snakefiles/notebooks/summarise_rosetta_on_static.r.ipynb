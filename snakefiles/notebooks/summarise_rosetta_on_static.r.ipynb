{
 "cells": [
  {
   "cell_type": "code",
   "execution_count": 2,
   "id": "865633e9",
   "metadata": {},
   "outputs": [],
   "source": [
    "library(dplyr)\n",
    "library(data.table)\n",
    "library(stats)"
   ]
  },
  {
   "cell_type": "code",
   "execution_count": 4,
   "id": "473f7a96",
   "metadata": {},
   "outputs": [],
   "source": [
    "infls = snakemake@input\n",
    "infl = infls[[1]]\n",
    "dfs <- list()\n",
    "ct <- 0\n",
    "for (infl in infls) {\n",
    "    df <- fread(infl)\n",
    "    df$ID <- snakemake@params$id\n",
    "    ct <- ct + 1\n",
    "    dfs[[ct]] <- df\n",
    "}\n",
    "dfs <- bind_rows(dfs)\n",
    "fwrite(x = dfs,file = snakemake@output[[1]])\n",
    "sumr <- dfs %>%\n",
    "    group_by(ID) %>%\n",
    "    summarise(dG_separated_median = median(dG_separated))\n",
    "fwrite(x = sumr,file = snakemake@output[[2]])\n",
    "#snakemake@output"
   ]
  }
 ],
 "metadata": {
  "kernelspec": {
   "display_name": "R",
   "language": "R",
   "name": "ir"
  },
  "language_info": {
   "codemirror_mode": "r",
   "file_extension": ".r",
   "mimetype": "text/x-r-source",
   "name": "R",
   "pygments_lexer": "r",
   "version": "4.1.3"
  }
 },
 "nbformat": 4,
 "nbformat_minor": 5
}
