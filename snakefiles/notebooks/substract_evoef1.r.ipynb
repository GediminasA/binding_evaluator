{
 "cells": [
  {
   "cell_type": "code",
   "execution_count": null,
   "id": "004c78c4",
   "metadata": {},
   "outputs": [],
   "source": [
    "options(warn = -2)\n",
    "library(data.table)\n",
    "library(dplyr)"
   ]
  },
  {
   "cell_type": "code",
   "execution_count": null,
   "id": "659a1502",
   "metadata": {},
   "outputs": [],
   "source": [
    "mut = fread(cmd = paste(\" grep '=' \", snakemake@input$mut , \" | \", \"grep 'Total' \" ), header = F, col.names = c(\"Term\",\"A\",\"MUT\")) %>%\n",
    "    select(\"MUT\")\n",
    "wt = fread(cmd = paste(\" grep '=' \", snakemake@input$wt , \" | \", \"grep 'Total' \" ), header = F, col.names = c(\"Term\",\"A\",\"WT\")) %>%\n",
    "    select(\"WT\")\n",
    "\n",
    "df = bind_cols(mut,wt) %>%\n",
    "    mutate(DDG = MUT - WT, MUTATIONS = snakemake@wildcards$mutations)\n",
    "\n",
    "fwrite(x = df, file =   snakemake@output$mut)"
   ]
  }
 ],
 "metadata": {
  "kernelspec": {
   "display_name": "R",
   "language": "R",
   "name": "ir"
  },
  "language_info": {
   "codemirror_mode": "r",
   "file_extension": ".r",
   "mimetype": "text/x-r-source",
   "name": "R",
   "pygments_lexer": "r",
   "version": "4.2.0"
  }
 },
 "nbformat": 4,
 "nbformat_minor": 5
}
