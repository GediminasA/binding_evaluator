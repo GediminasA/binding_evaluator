{
 "cells": [
  {
   "cell_type": "code",
   "execution_count": null,
   "id": "04cb51d0",
   "metadata": {},
   "outputs": [],
   "source": [
    "suppressWarnings(library(dplyr))\n",
    "suppressWarnings(library(data.table))\n",
    "suppressWarnings(library(tidyr))"
   ]
  },
  {
   "cell_type": "code",
   "execution_count": null,
   "id": "cc897136",
   "metadata": {},
   "outputs": [],
   "source": [
    "df = data.frame(label=snakemake@wildcards$stem)"
   ]
  },
  {
   "cell_type": "code",
   "execution_count": null,
   "id": "47e244ba",
   "metadata": {},
   "outputs": [],
   "source": [
    "cad_df <- fread(snakemake@input$cad) %>%\n",
    "    select(CADscore = V5)"
   ]
  },
  {
   "cell_type": "code",
   "execution_count": null,
   "id": "59afbb45",
   "metadata": {},
   "outputs": [],
   "source": [
    "cad_dS <- fread(snakemake@input$cad) %>%\n",
    "    mutate(dS = V7 - V6) %>%\n",
    "    select(dS)"
   ]
  },
  {
   "cell_type": "code",
   "execution_count": null,
   "id": "0d0e0d16",
   "metadata": {},
   "outputs": [],
   "source": [
    "provdf <- fread(cmd = paste(\"grep  -A10000000000000000000 SCORE\",snakemake@input$provean), sep = \"\\t\") %>%\n",
    "    select(CS = SCORE) %>%\n",
    "    group_by() %>%\n",
    "    summarise(CS = sum(CS))"
   ]
  },
  {
   "cell_type": "code",
   "execution_count": null,
   "id": "7172f1cd",
   "metadata": {},
   "outputs": [],
   "source": [
    "SA_com <- fread(snakemake@input$dssp_complex) %>%\n",
    "    rename(SA_com = V1)\n",
    "SA_part <- fread(snakemake@input$dssp_part) %>%\n",
    "    rename(SA_part = V1)\n",
    "ddG_EvoEF <- fread(snakemake@input$evoef) %>%\n",
    "    rename(ddG_EvoEF = V1)\n",
    "\n",
    "open_terms = fread(snakemake@input$openmm) %>%\n",
    "    pivot_wider(names_from = V1,values_from = V2) #%>%\n",
    "    #select(PotentialEnergy, HarmonicBondForce, PeriodicTorsionForce, CustomTorsionForce, CMAPTorsionForce, LJForce, LennardJones, CMMotionRemover, HarmonicAngleForce, LennardJones14, CustomGBForce, CoulombForce)\n",
    "\n",
    "\n",
    "\n",
    "out_df <- bind_cols(df, cad_df, cad_dS, SA_com, SA_part, ddG_EvoEF, open_terms, provdf)"
   ]
  },
  {
   "cell_type": "code",
   "execution_count": null,
   "id": "72dffce9",
   "metadata": {},
   "outputs": [],
   "source": [
    "\n",
    "fwrite(file = snakemake@output[[1]], x = out_df)"
   ]
  }
 ],
 "metadata": {
  "kernelspec": {
   "display_name": "R",
   "language": "R",
   "name": "ir"
  },
  "language_info": {
   "codemirror_mode": "r",
   "file_extension": ".r",
   "mimetype": "text/x-r-source",
   "name": "R",
   "pygments_lexer": "r",
   "version": "4.2.0"
  }
 },
 "nbformat": 4,
 "nbformat_minor": 5
}
