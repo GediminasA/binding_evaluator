{
 "cells": [
  {
   "cell_type": "code",
   "execution_count": 2,
   "id": "a843a6e4",
   "metadata": {},
   "outputs": [],
   "source": [
    "library(data.table)\n",
    "library(dplyr)\n",
    "library(stringr)\n",
    "\n"
   ]
  },
  {
   "cell_type": "code",
   "execution_count": 3,
   "id": "5e6071e1",
   "metadata": {},
   "outputs": [],
   "source": [
    "ln = readLines(snakemake@input$complex_prodigy)[[1]]\n",
    "outdata = NA\n",
    "if (grepl(pattern = \"Predicted dissociation constant\",x = ln)) {\n",
    "    data = fread(cmd=paste(\"  sed 's/\\\\[/\\\\n/g' \",snakemake@input$complex_prodigy,\n",
    "               \" | grep -e 'No' -e 'Per' -e 'binding'  |\n",
    "    sed 's/+//g' |\n",
    "    sed 's/] //g' |\n",
    "    sed 's/: /;/g' |\n",
    "    sed 's/No./No/g' |\n",
    "    sed 's/(kcal.mol-1)//g' |\n",
    "    grep -v Reading \"),sep=';',head=F,col.names = c(\"measure\",\"value\"))\n",
    "    v1 = str_replace_all(string = data$measure,pattern = \"-\",replacement = \"_\")\n",
    "    v2 = str_replace_all(string = v1,pattern = \" \",replacement = \"_\")\n",
    "\n",
    "    data$measure <- unlist(v2)\n",
    "    outdata = t(data)\n",
    "} else {\n",
    "    head = \"No_of_intermolecular_contacts\tNo_of_charged_charged_contacts\tNo_of_charged_polar_contacts\tNo_of_charged_apolar_contacts\tNo_of_polar_polar_contacts\tNo_of_apolar_polar_contacts\tNo_of_apolar_apolar_contacts\tPercentage_of_apolar_NIS_residues\tPercentage_of_charged_NIS_residues\tPredicted_binding_affinity\"\n",
    "    head = strsplit(x=head,split=\"\\t\")[[1]]\n",
    "    navals = rep(NA,length(head))\n",
    "    datana <- data.table(measure=head,value=navals)\n",
    "    outdata <- t(datana)\n",
    "}\n"
   ]
  },
  {
   "cell_type": "code",
   "execution_count": 12,
   "id": "1769692d",
   "metadata": {},
   "outputs": [],
   "source": [
    "outdata = as.data.table(outdata)\n",
    "colnames(outdata) <- unlist(outdata[1,],use.names = F)\n",
    "outdata <- outdata[-c(1),]\n",
    "outdata$COMPLEXID <- snakemake@params$id\n",
    "fwrite(x = outdata,file = snakemake@output$complex_prodigy,row.names = F,col.names = T,sep=\"\\t\")\n",
    "              "
   ]
  }
 ],
 "metadata": {
  "kernelspec": {
   "display_name": "R",
   "language": "R",
   "name": "ir"
  },
  "language_info": {
   "codemirror_mode": "r",
   "file_extension": ".r",
   "mimetype": "text/x-r-source",
   "name": "R",
   "pygments_lexer": "r",
   "version": "4.1.3"
  }
 },
 "nbformat": 4,
 "nbformat_minor": 5
}
