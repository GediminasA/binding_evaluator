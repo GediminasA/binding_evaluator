{
 "cells": [
  {
   "cell_type": "code",
   "execution_count": null,
   "id": "b2b95b47",
   "metadata": {},
   "outputs": [],
   "source": [
    "library(data.table)\n",
    "library(dplyr)"
   ]
  },
  {
   "cell_type": "code",
   "execution_count": null,
   "id": "c5f42809",
   "metadata": {},
   "outputs": [],
   "source": [
    "terms = fread(snakemake@input$table)\n",
    "ddg = fread(snakemake@input$ddg, col.names = c(\"ddG\"))\n",
    "fwrite(\n",
    "    x = bind_cols(select(terms, label),ddg),\n",
    "    file = snakemake@output$ddg\n",
    "    )\n"
   ]
  }
 ],
 "metadata": {
  "kernelspec": {
   "display_name": "R",
   "language": "R",
   "name": "ir"
  },
  "language_info": {
   "codemirror_mode": "r",
   "file_extension": ".r",
   "mimetype": "text/x-r-source",
   "name": "R",
   "pygments_lexer": "r",
   "version": "4.2.0"
  }
 },
 "nbformat": 4,
 "nbformat_minor": 5
}
