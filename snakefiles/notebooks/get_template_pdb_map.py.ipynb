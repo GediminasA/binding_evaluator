{
 "cells": [
  {
   "cell_type": "code",
   "execution_count": null,
   "id": "bc664f70",
   "metadata": {},
   "outputs": [],
   "source": [
    "import pandas as pd\n",
    "import json"
   ]
  },
  {
   "cell_type": "code",
   "execution_count": null,
   "id": "ad39cea7",
   "metadata": {
    "scrolled": true
   },
   "outputs": [],
   "source": [
    "if not snakemake.wildcards.seqtempl==\"nan\":\n",
    "    df = pd.read_csv(snakemake.input.coordinates, sep = \"\\t\", names = \"qseqid sseqid qstart qend sstart send length pident qseq sseq\".split())\n",
    "    df = df.query(\"sseqid == @snakemake.wildcards.seqtempl\")\n",
    "    df = df.sort_values(by=[\"length\"], ascending= False)\n",
    "    data = dict(df.iloc[0])\n",
    "    data"
   ]
  },
  {
   "cell_type": "code",
   "execution_count": null,
   "id": "f5d6df56",
   "metadata": {},
   "outputs": [],
   "source": [
    "if not snakemake.wildcards.seqtempl==\"nan\":\n",
    "\n",
    "    gap_ct_q = 0\n",
    "    gap_ct_s = 0\n",
    "    spos_seqs = []\n",
    "    qpos_seqs = []\n",
    "\n",
    "    for i in range(0, len(data['qseq'])):\n",
    "        qs = data['qseq'][i]\n",
    "        ss = data['sseq'][i]\n",
    "        if qs == '-':\n",
    "            gap_ct_q += 1\n",
    "        if ss == '-':\n",
    "            gap_ct_s += 1\n",
    "        qpos_aln = (i + 1) - gap_ct_q\n",
    "        spos_aln = (i + 1) - gap_ct_s\n",
    "        qpos_seq = data[\"qstart\"] + qpos_aln -1\n",
    "        spos_seq = data[\"sstart\"] + spos_aln -1\n",
    "        qpos_seqs.append(qpos_seq)\n",
    "        spos_seqs.append(spos_seq)\n",
    "    \n"
   ]
  },
  {
   "cell_type": "code",
   "execution_count": null,
   "id": "2e06afa2",
   "metadata": {},
   "outputs": [],
   "source": [
    "if not snakemake.wildcards.seqtempl==\"nan\":\n",
    "    df = pd.DataFrame.from_dict({\"PDB\":qpos_seqs,\"TEMPLATE\":spos_seqs})\n",
    "    df[\"CHAIN\"] = data[\"qseqid\"].split(\"|\")[1]\n",
    "    df.to_csv(snakemake.output[0], index = False)\n",
    "else:\n",
    "    with open(snakemake.output[0], 'w') as creating_new_csv_file: \n",
    "        pass "
   ]
  }
 ],
 "metadata": {
  "kernelspec": {
   "display_name": "Python 3 (ipykernel)",
   "language": "python",
   "name": "python3"
  },
  "language_info": {
   "codemirror_mode": {
    "name": "ipython",
    "version": 3
   },
   "file_extension": ".py",
   "mimetype": "text/x-python",
   "name": "python",
   "nbconvert_exporter": "python",
   "pygments_lexer": "ipython3",
   "version": "3.10.11"
  }
 },
 "nbformat": 4,
 "nbformat_minor": 5
}
