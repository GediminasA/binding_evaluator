{
 "cells": [
  {
   "cell_type": "code",
   "execution_count": 2,
   "id": "865633e9",
   "metadata": {},
   "outputs": [],
   "source": [
    "library(dplyr)\n",
    "library(data.table)\n",
    "library(stats)"
   ]
  },
  {
   "cell_type": "code",
   "execution_count": 14,
   "id": "473f7a96",
   "metadata": {},
   "outputs": [],
   "source": [
    "infls = snakemake@input$prodigy\n",
    "infl = infls[[1]]\n",
    "dfs <- list()\n",
    "ct <- 0\n",
    "for (infl in infls) {\n",
    "    df <- fread(infl,col.names = c(\"dG\",\"Partner1\",\"Partner2\",\"ID\",\"Run\"),sep=\" \")\n",
    "    df$ID <- snakemake@params$id\n",
    "    ct <- ct + 1\n",
    "    dfs[[ct]] <- df\n",
    "}\n",
    "prodigy <- bind_rows(dfs)\n",
    "\n",
    "# dfs <- dfs %>%\n",
    "#     select(dG,Partner1,Partner2,Run,ID)\n",
    "# fwrite(x = dfs,file = snakemake@output[[1]])\n",
    "# sumr <- dfs %>%\n",
    "#     group_by(ID) %>%\n",
    "#     summarise(dG_median = median(dG,na.rm = T))\n",
    "# fwrite(x = sumr,file = snakemake@output[[2]])\n",
    "\n",
    "#snakemake@output\n",
    "names(prodigy)\n"
   ]
  },
  {
   "cell_type": "code",
   "execution_count": 18,
   "id": "f2b6776c",
   "metadata": {},
   "outputs": [],
   "source": [
    "infls = snakemake@input$rosetta\n",
    "infl = infls[[1]]\n",
    "dfs <- list()\n",
    "ct <- 0\n",
    "for (infl in infls) {\n",
    "    ct <- ct + 1\n",
    "    df <- fread(infl) %>%\n",
    "        select(dG_separated,I_sc)\n",
    "    df$ID <- snakemake@params$id\n",
    "    df$Run <- ct\n",
    "    dfs[[ct]] <- df\n",
    "}\n",
    "rosetta <- bind_rows(dfs)"
   ]
  },
  {
   "cell_type": "code",
   "execution_count": 37,
   "id": "52d49119",
   "metadata": {},
   "outputs": [],
   "source": [
    "data <- rosetta %>%\n",
    "    left_join(prodigy,by=c(\"Run\",\"ID\")) %>%\n",
    "    arrange(I_sc) %>%\n",
    "    slice_head(prop = 0.1)\n",
    "fwrite(x = dfs,file = snakemake@output[[1]])\n",
    "sumr <- data %>%\n",
    "    group_by(ID) %>%\n",
    "    summarise(\n",
    "        dG_prodigy = median(dG,na.rm = T),\n",
    "        dG_separated = median(dG_separated,na.rm = T)\n",
    "    )\n",
    "fwrite(x = sumr,file = snakemake@output[[2]])"
   ]
  }
 ],
 "metadata": {
  "kernelspec": {
   "display_name": "R",
   "language": "R",
   "name": "ir"
  },
  "language_info": {
   "codemirror_mode": "r",
   "file_extension": ".r",
   "mimetype": "text/x-r-source",
   "name": "R",
   "pygments_lexer": "r",
   "version": "4.1.3"
  }
 },
 "nbformat": 4,
 "nbformat_minor": 5
}
