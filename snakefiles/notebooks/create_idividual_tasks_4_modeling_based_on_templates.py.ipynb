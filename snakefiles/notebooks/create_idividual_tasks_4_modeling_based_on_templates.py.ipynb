{
 "cells": [
  {
   "cell_type": "code",
   "execution_count": null,
   "id": "c697d58d",
   "metadata": {},
   "outputs": [],
   "source": [
    "import pandas as pd\n",
    "import os"
   ]
  },
  {
   "cell_type": "code",
   "execution_count": null,
   "id": "e9763256",
   "metadata": {},
   "outputs": [],
   "source": [
    "df  = pd.read_csv(snakemake.input[0])"
   ]
  },
  {
   "cell_type": "code",
   "execution_count": null,
   "id": "2a253205",
   "metadata": {},
   "outputs": [],
   "source": [
    "\n",
    "os.system(f\"mkdir -p {snakemake.output[0]}\")\n",
    "for i in range(0,df.shape[0]):\n",
    "    muts = str(df.MutationPDBalltypes[i]).replace(\",\",\"+\")\n",
    "    outf = \"=\".join([str(v) for v in [df.PDB[i],df.CHAIN[i],muts]])\n",
    "    with open(f\"{snakemake.output[0]}/{outf}\",'w') as of:\n",
    "        out = f\"{df.MutationPDBalltypes[i]};{df.PDB[i]};{df.CHAIN[i]};{df.Template[i]}\" \n",
    "        of.write(out)"
   ]
  }
 ],
 "metadata": {
  "kernelspec": {
   "display_name": "Python 3 (ipykernel)",
   "language": "python",
   "name": "python3"
  },
  "language_info": {
   "codemirror_mode": {
    "name": "ipython",
    "version": 3
   },
   "file_extension": ".py",
   "mimetype": "text/x-python",
   "name": "python",
   "nbconvert_exporter": "python",
   "pygments_lexer": "ipython3",
   "version": "3.10.11"
  }
 },
 "nbformat": 4,
 "nbformat_minor": 5
}
