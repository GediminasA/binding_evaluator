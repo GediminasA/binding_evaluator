{
 "cells": [
  {
   "cell_type": "code",
   "execution_count": null,
   "id": "bc664f70",
   "metadata": {},
   "outputs": [],
   "source": [
    "import pandas as pd\n",
    "import json\n",
    "from Bio import SeqIO\n",
    "import copy\n"
   ]
  },
  {
   "cell_type": "code",
   "execution_count": null,
   "id": "ea08f9c2",
   "metadata": {},
   "outputs": [],
   "source": [
    "df_todo = pd.read_csv(snakemake.input.todo,sep=\";\",names=['mutations', 'PDB','chain','template'])\n",
    "df_todo"
   ]
  },
  {
   "cell_type": "code",
   "execution_count": null,
   "id": "50e84fdb",
   "metadata": {},
   "outputs": [],
   "source": [
    "fastaf = open(snakemake.input.pdbfasta,\"r\")\n",
    "pdb_seqs = {}\n",
    "for record in SeqIO.parse(fastaf, \"fasta\"):\n",
    "    chain = record.id.split(\"|\")[1]\n",
    "    pdb_seqs[chain] = str(record.seq)"
   ]
  },
  {
   "cell_type": "code",
   "execution_count": null,
   "id": "a240c68f",
   "metadata": {},
   "outputs": [],
   "source": [
    "fastaf = open(snakemake.input.pdbtemplates,\"r\")\n",
    "templates_seqs = {}\n",
    "for record in SeqIO.parse(fastaf, \"fasta\"):\n",
    "    templates_seqs[record.id] = str(record.seq)"
   ]
  },
  {
   "cell_type": "code",
   "execution_count": null,
   "id": "ad39cea7",
   "metadata": {
    "scrolled": true
   },
   "outputs": [],
   "source": [
    "if snakemake.wildcards.chain != \"nan\":\n",
    "    df = pd.read_csv(snakemake.input.coordinates, sep = \"\\t\", names = \"qseqid sseqid qstart qend sstart send length pident qseq sseq\".split())\n",
    "    df = df.query(\"sseqid == @df_todo.template[0]\")\n",
    "    df = df.sort_values(by=[\"length\"], ascending= False)\n",
    "    data = dict(df.iloc[0])"
   ]
  },
  {
   "cell_type": "code",
   "execution_count": null,
   "id": "f5d6df56",
   "metadata": {},
   "outputs": [],
   "source": [
    "if snakemake.wildcards.chain != \"nan\":\n",
    "    gap_ct_q = 0\n",
    "    gap_ct_s = 0\n",
    "    spos_seqs = []\n",
    "    qpos_seqs = []\n",
    "\n",
    "    for i in range(0, len(data['qseq'])):\n",
    "        qs = data['qseq'][i]\n",
    "        ss = data['sseq'][i]\n",
    "        if qs == '-':\n",
    "            gap_ct_q += 1\n",
    "        if ss == '-':\n",
    "            gap_ct_s += 1\n",
    "        qpos_aln = (i + 1) - gap_ct_q\n",
    "        spos_aln = (i + 1) - gap_ct_s\n",
    "        qpos_seq = data[\"qstart\"] + qpos_aln -1\n",
    "        spos_seq = data[\"sstart\"] + spos_aln -1\n",
    "        qpos_seqs.append(qpos_seq)\n",
    "        spos_seqs.append(spos_seq)\n",
    "\n"
   ]
  },
  {
   "cell_type": "code",
   "execution_count": null,
   "id": "2e06afa2",
   "metadata": {},
   "outputs": [],
   "source": [
    "if snakemake.wildcards.chain != \"nan\":\n",
    "    df = pd.DataFrame.from_dict({\"PDB\":qpos_seqs,\"TEMPLATE\":spos_seqs})\n",
    "    df[\"CHAIN\"] = data[\"qseqid\"].split(\"|\")[1]"
   ]
  },
  {
   "cell_type": "code",
   "execution_count": null,
   "id": "077d8af0",
   "metadata": {},
   "outputs": [],
   "source": [
    "# prepare dicts\n",
    "if snakemake.wildcards.chain != \"nan\":\n",
    "    PDB_TEMPLATE = dict(zip(df.PDB,df.TEMPLATE))\n",
    "    TEMPLATE_PDB = dict(zip(df.TEMPLATE, df.PDB))"
   ]
  },
  {
   "cell_type": "code",
   "execution_count": null,
   "id": "bc76b8ac",
   "metadata": {},
   "outputs": [],
   "source": [
    "if snakemake.wildcards.chain != \"nan\":\n",
    "    pdb_seq = pdb_seqs[df_todo.chain[0]]\n",
    "    template_seq = templates_seqs[df_todo.template[0]]\n",
    "    pdb_seq_new = list(pdb_seq)\n"
   ]
  },
  {
   "cell_type": "code",
   "execution_count": null,
   "id": "9f33cce0",
   "metadata": {},
   "outputs": [],
   "source": [
    "if snakemake.wildcards.chain != \"nan\":\n",
    "    log = open(snakemake.log[0],\"w\")\n",
    "    seqsd = f\">PDB|{df_todo.chain[0]}\\n{pdb_seq}\\n>{df_todo.template[0]}\\n{template_seq}\\n\"\n",
    "    foundmis = False\n",
    "    for m in str(df_todo.mutations[0]).split(\",\"):  \n",
    "        if m.find(\"ins\") == -1 and m != 'nan' :\n",
    "            wts = m[0]\n",
    "            muts = m[len(m)-1]\n",
    "            pospdb = int(m[1:len(m)-1])\n",
    "            postempl = PDB_TEMPLATE[pospdb]\n",
    "            pdb_symb = pdb_seq[pospdb-1]\n",
    "            templ_symb = template_seq[postempl-1]\n",
    "            pdb_seq_new[pospdb-1] = muts\n",
    "            warnm = \"\"\n",
    "            if wts != pdb_symb:\n",
    "                warnm += \"!MISMATCH_IN_PDB!\"\n",
    "                foundmis = True\n",
    "            if wts != templ_symb:\n",
    "                warnm += \" !MISMATCH_IN_TEMPLATE!\"\n",
    "                foundmismis = True\n",
    "            log.write(f\"WT:{wts} MUT:{muts} POSINPDB:{pospdb} POSINTEMPL:{postempl} PDBSYMB:{pdb_symb} TEMPLSYMB:{templ_symb} {warnm}\\n\")\n",
    "    if foundmis:\n",
    "        log.write(seqsd)\n",
    "    log.close()"
   ]
  },
  {
   "cell_type": "code",
   "execution_count": null,
   "id": "e50462a5",
   "metadata": {},
   "outputs": [],
   "source": [
    "if snakemake.wildcards.chain != \"nan\":\n",
    "    pdb_seq_new4out = ''.join(pdb_seq_new).replace('-','')\n",
    "    with open(snakemake.output[0],\"w\") as of:\n",
    "        chain = df_todo.chain[0]\n",
    "        of.write(f\">PDB|{chain}\\n{pdb_seq_new4out}\\n\")\n",
    "        for chn in pdb_seqs:\n",
    "            if chn != chain:\n",
    "                seqold = pdb_seqs[chn]\n",
    "                of.write(f\">PDB|{chn}\\n{seqold}\\n\")\n",
    "else:\n",
    "    with open(snakemake.output[0],\"w\") as of:\n",
    "        for chn in pdb_seqs:\n",
    "            seqold = pdb_seqs[chn]\n",
    "            of.write(f\">PDB|{chn}\\n{seqold}\\n\")\n"
   ]
  }
 ],
 "metadata": {
  "kernelspec": {
   "display_name": "Python 3 (ipykernel)",
   "language": "python",
   "name": "python3"
  },
  "language_info": {
   "codemirror_mode": {
    "name": "ipython",
    "version": 3
   },
   "file_extension": ".py",
   "mimetype": "text/x-python",
   "name": "python",
   "nbconvert_exporter": "python",
   "pygments_lexer": "ipython3",
   "version": "3.10.11"
  }
 },
 "nbformat": 4,
 "nbformat_minor": 5
}
