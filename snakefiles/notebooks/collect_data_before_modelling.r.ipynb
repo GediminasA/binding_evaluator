{
 "cells": [
  {
   "cell_type": "code",
   "execution_count": null,
   "id": "683f4e4b",
   "metadata": {},
   "outputs": [],
   "source": [
    "suppressWarnings({\n",
    "library(data.table)\n",
    "library(dplyr)\n",
    "    })"
   ]
  },
  {
   "cell_type": "code",
   "execution_count": null,
   "id": "043307d4",
   "metadata": {},
   "outputs": [],
   "source": [
    "out = do.call(\"rbind\",lapply(snakemake@input$evoef_data, function(x){\n",
    "    fread(x,\n",
    "          sep=\",\",\n",
    "          colClasses = \"character\"\n",
    "         )\n",
    "}))\n",
    "fwrite(x = out, file = snakemake@output$evoef_data)"
   ]
  },
  {
   "cell_type": "code",
   "execution_count": null,
   "id": "205d32f5",
   "metadata": {},
   "outputs": [],
   "source": [
    "suppressWarnings({\n",
    "\n",
    "out = do.call(\"rbind\",lapply(snakemake@input$cleaned_haps, function(x){fread(x,sep=\",\",  colClasses = \"character\")}))\n",
    "fwrite(x = out, file = snakemake@output$cleaned_haps)\n",
    "})"
   ]
  }
 ],
 "metadata": {
  "kernelspec": {
   "display_name": "R",
   "language": "R",
   "name": "ir"
  },
  "language_info": {
   "codemirror_mode": "r",
   "file_extension": ".r",
   "mimetype": "text/x-r-source",
   "name": "R",
   "pygments_lexer": "r",
   "version": "4.2.0"
  }
 },
 "nbformat": 4,
 "nbformat_minor": 5
}
