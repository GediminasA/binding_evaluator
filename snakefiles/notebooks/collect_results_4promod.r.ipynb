{
 "cells": [
  {
   "cell_type": "code",
   "execution_count": null,
   "id": "bda536d5",
   "metadata": {},
   "outputs": [],
   "source": [
    "shh <- suppressPackageStartupMessages # It's a library, so shhh!\n",
    "options(warn=-2)\n",
    "shh(library(data.table))\n",
    "shh(library(dplyr))"
   ]
  },
  {
   "cell_type": "code",
   "execution_count": null,
   "id": "d923bfa0",
   "metadata": {},
   "outputs": [],
   "source": [
    "fread_evoef1 <- function(x){\n",
    "    out <- fread(cmd = paste(\" grep '=' \", x , \" | \", \"grep 'Total' \" ), header = F, col.names = c(\"Term\",\"A\",\"EVOEF1\")) %>%\n",
    "        select(EVOEF1)\n",
    "    splitd <- strsplit(basename(x), split=\"_\", fixed = T)[[1]]\n",
    "    out$label <- splitd[[1]]\n",
    "    out$frame <- splitd[[2]]\n",
    "    return(out)\n",
    "}"
   ]
  },
  {
   "cell_type": "code",
   "execution_count": null,
   "id": "25356390",
   "metadata": {},
   "outputs": [],
   "source": [
    "rezevoef = bind_rows(lapply(X = snakemake@input$promod_models_evoef1_evals, fread_evoef1))\n"
   ]
  },
  {
   "cell_type": "code",
   "execution_count": null,
   "id": "48fa94ab",
   "metadata": {},
   "outputs": [],
   "source": [
    "fread_prodigy <- function(x){\n",
    "    out <- fread(x) %>%\n",
    "        setNames(paste0('PRODIGY_', names(.)))\n",
    "    splitd <- strsplit(basename(x), split=\"_\", fixed = T)[[1]] \n",
    "    out$COMPLEXID <- NULL\n",
    "    out$label <- splitd[[1]]\n",
    "    out$frame <- splitd[[2]]\n",
    "    return(out)\n",
    "}"
   ]
  },
  {
   "cell_type": "code",
   "execution_count": null,
   "id": "98af135c",
   "metadata": {},
   "outputs": [],
   "source": [
    "rezprodigy = bind_rows(lapply(X = snakemake@input$promod_models_prodigy_evals, fread_prodigy))\n"
   ]
  },
  {
   "cell_type": "code",
   "execution_count": null,
   "id": "f4ba17e4",
   "metadata": {},
   "outputs": [],
   "source": [
    "out_wide_full <- rezprodigy %>%\n",
    "    left_join(rezevoef, by=c(\"label\",\"frame\"))\n",
    "out_wide_full\n",
    "    "
   ]
  },
  {
   "cell_type": "code",
   "execution_count": null,
   "id": "f2ddabf2",
   "metadata": {},
   "outputs": [],
   "source": [
    "out_wide_main <- out_wide_full %>%\n",
    "    select(label, frame, EVOEF1, PRODIGY=PRODIGY_Predicted_binding_affinity)\n",
    "out_wide_main_static <- out_wide_main %>%\n",
    "    filter(frame == \"1\")\n",
    "out_wide_main_dynamic_MEAN <- out_wide_main %>%\n",
    "    filter(frame != \"1\") %>%\n",
    "    group_by(label) %>%\n",
    "    summarise_if(is.numeric, mean, na.rm = TRUE) %>%\n",
    "    rename_if(is.numeric, .funs = ~ paste0(\"MEAN_\", .))\n",
    "out_wide_main_dynamic_MEDIAN <- out_wide_main %>%\n",
    "    filter(frame != \"1\") %>%\n",
    "    group_by(label) %>%\n",
    "    summarise_if(is.numeric, median, na.rm = TRUE) %>%\n",
    "    rename_if(is.numeric, .funs = ~ paste0(\"MEDIAN_\", .))\n",
    "out_wide_main <- out_wide_main_static %>%\n",
    "    left_join(out_wide_main_dynamic_MEAN, by = \"label\") %>%\n",
    "    left_join(out_wide_main_dynamic_MEDIAN, by = \"label\")\n"
   ]
  },
  {
   "cell_type": "code",
   "execution_count": null,
   "id": "bfd46c42",
   "metadata": {},
   "outputs": [],
   "source": [
    "#calculate dEVOEF1,dPRODIGY\n",
    "outdf <- out_wide_main %>%\n",
    "    select(-starts_with(\"MEDIAN\"), -starts_with(\"MEAN\"), -frame) %>%\n",
    "    rowwise() %>%\n",
    "    mutate(stem = paste(strsplit(label,split = \"=\", fixed = T)[[1]][1:2], collapse = \"=\") ) # to match wt with mutants\n",
    "outdf4ref <- outdf %>%\n",
    "    filter(grepl(pattern = \"=nan\",fixed = T, x = label)) %>%\n",
    "    mutate(EVOEF1_ref = EVOEF1, PRODIGY_ref = PRODIGY) %>%\n",
    "    select(-label, -EVOEF1, -PRODIGY)\n",
    "    \n",
    "outdf <- outdf %>%\n",
    "    left_join(outdf4ref, by = \"stem\") %>%\n",
    "    select(-stem) %>%\n",
    "    mutate(dEVOEF1 = EVOEF1 - EVOEF1_ref, dPRODIGY = PRODIGY -PRODIGY_ref) %>%\n",
    "    select(label,dEVOEF1,dPRODIGY) %>%\n",
    "    filter(!grepl(pattern = \"=nan\", fixed = T, x = label))\n",
    "outdf"
   ]
  },
  {
   "cell_type": "code",
   "execution_count": null,
   "id": "dc0655ae",
   "metadata": {},
   "outputs": [],
   "source": [
    "ddgdf <- fread(snakemake@input$ddg) \n",
    "\n",
    "outdf2 <- outdf %>% \n",
    "    left_join(ddgdf, by=\"label\")"
   ]
  },
  {
   "cell_type": "code",
   "execution_count": null,
   "id": "c0b15fe3",
   "metadata": {},
   "outputs": [],
   "source": [
    "fwrite(file = snakemake@output$ddg_results_on_promod_full, x = out_wide_full) \n",
    "fwrite(file = snakemake@output$ddg_results_on_promod_main, x = outdf2) "
   ]
  }
 ],
 "metadata": {
  "kernelspec": {
   "display_name": "R",
   "language": "R",
   "name": "ir"
  },
  "language_info": {
   "codemirror_mode": "r",
   "file_extension": ".r",
   "mimetype": "text/x-r-source",
   "name": "R",
   "pygments_lexer": "r",
   "version": "4.2.0"
  }
 },
 "nbformat": 4,
 "nbformat_minor": 5
}
