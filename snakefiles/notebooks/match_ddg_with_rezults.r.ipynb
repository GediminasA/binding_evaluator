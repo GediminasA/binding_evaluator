{
 "cells": [
  {
   "cell_type": "code",
   "execution_count": null,
   "id": "720b0a64",
   "metadata": {},
   "outputs": [],
   "source": [
    "library(dplyr)\n",
    "library(data.table)"
   ]
  },
  {
   "cell_type": "code",
   "execution_count": null,
   "id": "c70c3616",
   "metadata": {},
   "outputs": [],
   "source": [
    "df_mut = fread(snakemake@input$mutdef) %>%\n",
    "    filter(! MutationsID == \"WT\") %>%\n",
    "    rowwise() %>%\n",
    "    mutate(label = paste(PDB,CHAIN,gsub(\",\",\"+\",MutationPDBalltypes,),sep = \"=\")) %>%\n",
    "    select(label,PDB,Mutations, MutationsID)  \n",
    "\n",
    "    \n",
    "ddgdf = fread(snakemake@input$ddg_results_on_promod_main)\n",
    "df_mut <- df_mut %>%\n",
    "    left_join(ddgdf,by = \"label\")\n",
    "fwrite(x = df_mut, file = snakemake@output$rez)"
   ]
  }
 ],
 "metadata": {
  "kernelspec": {
   "display_name": "R",
   "language": "R",
   "name": "ir"
  },
  "language_info": {
   "codemirror_mode": "r",
   "file_extension": ".r",
   "mimetype": "text/x-r-source",
   "name": "R",
   "pygments_lexer": "r",
   "version": "4.2.0"
  }
 },
 "nbformat": 4,
 "nbformat_minor": 5
}
